{
 "cells": [
  {
   "cell_type": "markdown",
   "id": "7aa3a075",
   "metadata": {},
   "source": [
    "# This is Chuyi's Jupyter Notebook"
   ]
  },
  {
   "cell_type": "code",
   "execution_count": 2,
   "id": "1104d7bb",
   "metadata": {},
   "outputs": [
    {
     "data": {
      "text/plain": [
       "3"
      ]
     },
     "execution_count": 2,
     "metadata": {},
     "output_type": "execute_result"
    }
   ],
   "source": [
    "test = 1\n",
    "test + 2"
   ]
  },
  {
   "cell_type": "code",
   "execution_count": 4,
   "id": "67e91afa",
   "metadata": {},
   "outputs": [],
   "source": [
    "completed_assignment_0 = True"
   ]
  },
  {
   "cell_type": "code",
   "execution_count": null,
   "id": "b7198650",
   "metadata": {},
   "outputs": [],
   "source": [
    "if completed_assignment_0:\n",
    "    print(\"Congrats!\")\n",
    "else:\n",
    "    print(\"Go back to work!\")"
   ]
  }
 ],
 "metadata": {
  "kernelspec": {
   "display_name": "Python 3",
   "language": "python",
   "name": "python3"
  },
  "language_info": {
   "codemirror_mode": {
    "name": "ipython",
    "version": 3
   },
   "file_extension": ".py",
   "mimetype": "text/x-python",
   "name": "python",
   "nbconvert_exporter": "python",
   "pygments_lexer": "ipython3",
   "version": "3.8.8"
  }
 },
 "nbformat": 4,
 "nbformat_minor": 5
}
