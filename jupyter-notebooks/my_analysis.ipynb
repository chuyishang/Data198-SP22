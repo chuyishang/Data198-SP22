{
 "cells": [
  {
   "cell_type": "markdown",
   "id": "e3b6adb6",
   "metadata": {},
   "source": [
    "# This is Chuyi's Jupyter Notebook"
   ]
  },
  {
   "cell_type": "code",
   "execution_count": 2,
   "id": "6019a08c",
   "metadata": {},
   "outputs": [
    {
     "data": {
      "text/plain": [
       "3"
      ]
     },
     "execution_count": 2,
     "metadata": {},
     "output_type": "execute_result"
    }
   ],
   "source": [
    "test = 1\n",
    "test + 2"
   ]
  },
  {
   "cell_type": "code",
   "execution_count": 4,
   "id": "5e4a124c",
   "metadata": {},
   "outputs": [],
   "source": [
    "completed_assignment_0 = True"
   ]
  },
  {
   "cell_type": "code",
   "execution_count": 5,
   "id": "03eb5435",
   "metadata": {},
   "outputs": [
    {
     "name": "stdout",
     "output_type": "stream",
     "text": [
      "Congrats!\n"
     ]
    }
   ],
   "source": [
    "if completed_assignment_0:\n",
    "    print(\"Congrats!\")\n",
    "else:\n",
    "    print(\"Go back to work!\")"
   ]
  },
  {
   "cell_type": "code",
   "execution_count": null,
   "id": "f4c2b49e",
   "metadata": {},
   "outputs": [],
   "source": []
  }
 ],
 "metadata": {
  "kernelspec": {
   "display_name": "Python 3",
   "language": "python",
   "name": "python3"
  },
  "language_info": {
   "codemirror_mode": {
    "name": "ipython",
    "version": 3
   },
   "file_extension": ".py",
   "mimetype": "text/x-python",
   "name": "python",
   "nbconvert_exporter": "python",
   "pygments_lexer": "ipython3",
   "version": "3.8.8"
  }
 },
 "nbformat": 4,
 "nbformat_minor": 5
}
